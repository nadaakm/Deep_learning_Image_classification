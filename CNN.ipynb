{
  "nbformat": 4,
  "nbformat_minor": 0,
  "metadata": {
    "colab": {
      "provenance": []
    },
    "kernelspec": {
      "name": "python3",
      "display_name": "Python 3"
    },
    "language_info": {
      "name": "python"
    },
    "accelerator": "GPU",
    "gpuClass": "standard"
  },
  "cells": [
    {
      "cell_type": "markdown",
      "source": [
        "\n",
        "## Classification d'image multiclasses\n",
        "\n",
        "## Architecture : CNN\n",
        "\n",
        "## Dataset : MNIST"
      ],
      "metadata": {
        "id": "1imMdo_g8WFe"
      }
    },
    {
      "cell_type": "code",
      "execution_count": null,
      "metadata": {
        "id": "aWrwTMZkcIGc"
      },
      "outputs": [],
      "source": [
        "import tensorflow as tf\n",
        "from tensorflow import keras\n",
        "from tensorflow.keras import datasets, layers, models\n",
        "import matplotlib.pyplot as plt"
      ]
    },
    {
      "cell_type": "code",
      "source": [
        "(train_images, train_labels), (test_images, test_labels) = datasets.mnist.load_data()"
      ],
      "metadata": {
        "colab": {
          "base_uri": "https://localhost:8080/"
        },
        "id": "M5Ht_0sHcaJ7",
        "outputId": "88063582-4277-4785-9236-7d26f0965aea"
      },
      "execution_count": null,
      "outputs": [
        {
          "output_type": "stream",
          "name": "stdout",
          "text": [
            "Downloading data from https://storage.googleapis.com/tensorflow/tf-keras-datasets/mnist.npz\n",
            "11490434/11490434 [==============================] - 0s 0us/step\n"
          ]
        }
      ]
    },
    {
      "cell_type": "code",
      "source": [
        "plt.figure(figsize=(10,10))\n",
        "for i in range(25):\n",
        "    plt.subplot(5,5,i+1)\n",
        "    plt.xticks([])\n",
        "    plt.yticks([])\n",
        "    plt.grid(False)\n",
        "    plt.imshow(train_images[i],cmap='gray')\n",
        "plt.show()"
      ],
      "metadata": {
        "colab": {
          "base_uri": "https://localhost:8080/",
          "height": 575
        },
        "id": "WWPJPJsPdqYY",
        "outputId": "c85c27cc-81ab-458d-e757-73caedfc5fd5"
      },
      "execution_count": null,
      "outputs": [
        {
          "output_type": "display_data",
          "data": {
            "text/plain": [
              "<Figure size 720x720 with 25 Axes>"
            ],
            "image/png": "[encoded data removed]"
          },
          "metadata": {}
        }
      ]
    },
    {
      "cell_type": "code",
      "source": [
        "train_images, test_images = train_images/255.0,test_images/255.0"
      ],
      "metadata": {
        "id": "KjzeW-0MfQVj"
      },
      "execution_count": null,
      "outputs": []
    },
    {
      "cell_type": "code",
      "source": [
        "from sklearn.model_selection import train_test_split\n",
        "train_images, val_images,train_labels,val_labels = train_test_split(train_images,train_labels,random_state=420,test_size=0.2)"
      ],
      "metadata": {
        "id": "GvNAGsMkdybY"
      },
      "execution_count": null,
      "outputs": []
    },
    {
      "cell_type": "code",
      "source": [
        "from tensorflow.keras.layers import Conv2D, Dense, Input,Flatten,Dropout,MaxPooling2D,BatchNormalization\n",
        "from tensorflow.keras import Sequential\n",
        "train_images.shape"
      ],
      "metadata": {
        "colab": {
          "base_uri": "https://localhost:8080/"
        },
        "id": "4fPXaEm4gnIq",
        "outputId": "d9c3f95a-bb04-4b3b-f24a-57bfde3422fb"
      },
      "execution_count": null,
      "outputs": [
        {
          "output_type": "execute_result",
          "data": {
            "text/plain": [
              "(48000, 28, 28)"
            ]
          },
          "metadata": {},
          "execution_count": 50
        }
      ]
    },
    {
      "cell_type": "markdown",
      "source": [
        "## LeNet"
      ],
      "metadata": {
        "id": "0ADIslG8VjFM"
      }
    },
    {
      "cell_type": "code",
      "source": [
        "model = Sequential()\n",
        "model.add(Input((28,28,1)))\n",
        "## Niveau 1 de convolution\n",
        "model.add(Conv2D(16,kernel_size=(3,3),activation=\"relu\",padding=\"same\"))\n",
        "model.add(MaxPooling2D(pool_size=(2,2),strides=(2,2)))\n",
        "model.add(BatchNormalization())\n",
        "model.add(Dropout(0.2))\n",
        "## Niveau 2 de convolution\n",
        "model.add(Conv2D(16,kernel_size=(3,3),activation=\"relu\",padding=\"same\"))\n",
        "model.add(MaxPooling2D(pool_size=(2,2),strides=(2,2)))\n",
        "model.add(BatchNormalization())\n",
        "model.add(Dropout(0.2))\n",
        "model.add(Flatten())\n",
        "## Classification\n",
        "model.add(Dense(64,activation='relu'))\n",
        "model.add(Dense(10,activation='softmax'))\n",
        "model.summary()"
      ],
      "metadata": {
        "colab": {
          "base_uri": "https://localhost:8080/"
        },
        "id": "b_I3bC7Fg6Eh",
        "outputId": "7ac315fa-5732-4575-a2cd-be4a57ac0621"
      },
      "execution_count": null,
      "outputs": [
        {
          "output_type": "stream",
          "name": "stdout",
          "text": [
            "Model: \"sequential_14\"\n",
            "_________________________________________________________________\n",
            " Layer (type)                Output Shape              Param #   \n",
            "=================================================================\n",
            " conv2d_16 (Conv2D)          (None, 28, 28, 16)        160       \n",
            "                                                                 \n",
            " max_pooling2d_8 (MaxPooling  (None, 14, 14, 16)       0         \n",
            " 2D)                                                             \n",
            "                                                                 \n",
            " batch_normalization_6 (Batc  (None, 14, 14, 16)       64        \n",
            " hNormalization)                                                 \n",
            "                                                                 \n",
            " dropout_11 (Dropout)        (None, 14, 14, 16)        0         \n",
            "                                                                 \n",
            " conv2d_17 (Conv2D)          (None, 14, 14, 16)        2320      \n",
            "                                                                 \n",
            " max_pooling2d_9 (MaxPooling  (None, 7, 7, 16)         0         \n",
            " 2D)                                                             \n",
            "                                                                 \n",
            " batch_normalization_7 (Batc  (None, 7, 7, 16)         64        \n",
            " hNormalization)                                                 \n",
            "                                                                 \n",
            " dropout_12 (Dropout)        (None, 7, 7, 16)          0         \n",
            "                                                                 \n",
            " flatten_10 (Flatten)        (None, 784)               0         \n",
            "                                                                 \n",
            " dense_20 (Dense)            (None, 84)                65940     \n",
            "                                                                 \n",
            " dense_21 (Dense)            (None, 10)                850       \n",
            "                                                                 \n",
            "=================================================================\n",
            "Total params: 69,398\n",
            "Trainable params: 69,334\n",
            "Non-trainable params: 64\n",
            "_________________________________________________________________\n"
          ]
        }
      ]
    },
    {
      "cell_type": "markdown",
      "source": [
        "## VGG Net"
      ],
      "metadata": {
        "id": "u-MQXCimVtI_"
      }
    },
    {
      "cell_type": "code",
      "source": [
        "def vggnet():\n",
        "  model = Sequential()\n",
        "  model.add(Input((28,28,1)))\n",
        "  #Bloc VGG 1\n",
        "  model.add(Conv2D(16,kernel_size=(2,2),activation=\"relu\",padding=\"same\"))\n",
        "  model.add(Conv2D(16,kernel_size=(2,2),activation=\"relu\",padding=\"same\"))\n",
        "  model.add(MaxPooling2D())\n",
        "  model.add(BatchNormalization())\n",
        "  model.add(Dropout(0.2))\n",
        "  #Bloc VGG 2\n",
        "  model.add(Conv2D(32,kernel_size=(2,2),activation=\"relu\",padding=\"same\"))\n",
        "  model.add(Conv2D(32,kernel_size=(2,2),activation=\"relu\",padding=\"same\"))\n",
        "  model.add(MaxPooling2D())\n",
        "  model.add(BatchNormalization())\n",
        "  model.add(Dropout(0.2))\n",
        "  #Bloc VGG 3\n",
        "  model.add(Conv2D(64,kernel_size=(2,2),activation=\"relu\",padding=\"same\"))\n",
        "  model.add(Conv2D(64,kernel_size=(2,2),activation=\"relu\",padding=\"same\"))\n",
        "  model.add(Conv2D(64,kernel_size=(2,2),activation=\"relu\",padding=\"same\"))\n",
        "  model.add(MaxPooling2D())\n",
        "  model.add(BatchNormalization())\n",
        "  model.add(Dropout(0.2))\n",
        "  #Le classifieur\n",
        "  model.add(Flatten())\n",
        "  model.add(Dense(42,activation='relu'))\n",
        "  model.add(Dense(10,activation='softmax'))\n",
        "  return model"
      ],
      "metadata": {
        "id": "xqmpnMFeVvsq"
      },
      "execution_count": null,
      "outputs": []
    },
    {
      "cell_type": "code",
      "source": [
        "model = vggnet()\n",
        "model.summary()"
      ],
      "metadata": {
        "colab": {
          "base_uri": "https://localhost:8080/"
        },
        "id": "84Xf2bt8YGTV",
        "outputId": "d2eda0c1-9149-4b4e-abdd-893b9751a4d1"
      },
      "execution_count": null,
      "outputs": [
        {
          "output_type": "stream",
          "name": "stdout",
          "text": [
            "Model: \"sequential_16\"\n",
            "_________________________________________________________________\n",
            " Layer (type)                Output Shape              Param #   \n",
            "=================================================================\n",
            " conv2d_27 (Conv2D)          (None, 28, 28, 16)        80        \n",
            "                                                                 \n",
            " conv2d_28 (Conv2D)          (None, 28, 28, 16)        1040      \n",
            "                                                                 \n",
            " max_pooling2d_13 (MaxPoolin  (None, 14, 14, 16)       0         \n",
            " g2D)                                                            \n",
            "                                                                 \n",
            " batch_normalization_8 (Batc  (None, 14, 14, 16)       64        \n",
            " hNormalization)                                                 \n",
            "                                                                 \n",
            " dropout_13 (Dropout)        (None, 14, 14, 16)        0         \n",
            "                                                                 \n",
            " conv2d_29 (Conv2D)          (None, 14, 14, 32)        2080      \n",
            "                                                                 \n",
            " conv2d_30 (Conv2D)          (None, 14, 14, 32)        4128      \n",
            "                                                                 \n",
            " max_pooling2d_14 (MaxPoolin  (None, 7, 7, 32)         0         \n",
            " g2D)                                                            \n",
            "                                                                 \n",
            " batch_normalization_9 (Batc  (None, 7, 7, 32)         128       \n",
            " hNormalization)                                                 \n",
            "                                                                 \n",
            " dropout_14 (Dropout)        (None, 7, 7, 32)          0         \n",
            "                                                                 \n",
            " conv2d_31 (Conv2D)          (None, 7, 7, 64)          8256      \n",
            "                                                                 \n",
            " conv2d_32 (Conv2D)          (None, 7, 7, 64)          16448     \n",
            "                                                                 \n",
            " conv2d_33 (Conv2D)          (None, 7, 7, 64)          16448     \n",
            "                                                                 \n",
            " max_pooling2d_15 (MaxPoolin  (None, 3, 3, 64)         0         \n",
            " g2D)                                                            \n",
            "                                                                 \n",
            " batch_normalization_10 (Bat  (None, 3, 3, 64)         256       \n",
            " chNormalization)                                                \n",
            "                                                                 \n",
            " dropout_15 (Dropout)        (None, 3, 3, 64)          0         \n",
            "                                                                 \n",
            " flatten_12 (Flatten)        (None, 576)               0         \n",
            "                                                                 \n",
            " dense_24 (Dense)            (None, 42)                24234     \n",
            "                                                                 \n",
            " dense_25 (Dense)            (None, 10)                430       \n",
            "                                                                 \n",
            "=================================================================\n",
            "Total params: 73,592\n",
            "Trainable params: 73,368\n",
            "Non-trainable params: 224\n",
            "_________________________________________________________________\n"
          ]
        }
      ]
    },
    {
      "cell_type": "code",
      "source": [
        "model.compile(optimizer='adam',loss=tf.losses.SparseCategoricalCrossentropy(),metrics=['acc'])\n",
        "history = model.fit(train_images,train_labels,batch_size=32,epochs=10,validation_data=(val_images,val_labels))"
      ],
      "metadata": {
        "colab": {
          "base_uri": "https://localhost:8080/"
        },
        "id": "m5gmtaaAjLzx",
        "outputId": "8fd9247b-b1ec-4931-e9a0-663655b17189"
      },
      "execution_count": null,
      "outputs": [
        {
          "output_type": "stream",
          "name": "stdout",
          "text": [
            "Epoch 1/10\n",
            "1500/1500 [==============================] - 15s 8ms/step - loss: 0.2155 - acc: 0.9298 - val_loss: 0.0827 - val_acc: 0.9743\n",
            "Epoch 2/10\n",
            "1500/1500 [==============================] - 12s 8ms/step - loss: 0.0743 - acc: 0.9773 - val_loss: 0.0525 - val_acc: 0.9834\n",
            "Epoch 3/10\n",
            "1500/1500 [==============================] - 11s 7ms/step - loss: 0.0601 - acc: 0.9815 - val_loss: 0.0437 - val_acc: 0.9872\n",
            "Epoch 4/10\n",
            "1500/1500 [==============================] - 12s 8ms/step - loss: 0.0474 - acc: 0.9854 - val_loss: 0.0423 - val_acc: 0.9868\n",
            "Epoch 5/10\n",
            "1500/1500 [==============================] - 12s 8ms/step - loss: 0.0422 - acc: 0.9869 - val_loss: 0.0428 - val_acc: 0.9872\n",
            "Epoch 6/10\n",
            "1500/1500 [==============================] - 11s 7ms/step - loss: 0.0405 - acc: 0.9875 - val_loss: 0.0441 - val_acc: 0.9857\n",
            "Epoch 7/10\n",
            "1500/1500 [==============================] - 12s 8ms/step - loss: 0.0354 - acc: 0.9889 - val_loss: 0.0393 - val_acc: 0.9876\n",
            "Epoch 8/10\n",
            "1500/1500 [==============================] - 12s 8ms/step - loss: 0.0341 - acc: 0.9896 - val_loss: 0.0340 - val_acc: 0.9893\n",
            "Epoch 9/10\n",
            "1500/1500 [==============================] - 12s 8ms/step - loss: 0.0264 - acc: 0.9918 - val_loss: 0.0395 - val_acc: 0.9870\n",
            "Epoch 10/10\n",
            "1500/1500 [==============================] - 11s 8ms/step - loss: 0.0279 - acc: 0.9910 - val_loss: 0.0346 - val_acc: 0.9900\n"
          ]
        }
      ]
    },
    {
      "cell_type": "code",
      "source": [
        "def plot_loss(history):\n",
        "  plt.plot(history.history['loss'], label='loss')\n",
        "  plt.plot(history.history['val_loss'], label='val_loss')\n",
        "  plt.xlabel('Epoch')\n",
        "  plt.ylabel('Error [insurance]')\n",
        "  plt.legend()\n",
        "  plt.grid(True)"
      ],
      "metadata": {
        "id": "6qDR73EPAiyJ"
      },
      "execution_count": null,
      "outputs": []
    },
    {
      "cell_type": "code",
      "source": [
        "plot_loss(history)"
      ],
      "metadata": {
        "colab": {
          "base_uri": "https://localhost:8080/",
          "height": 279
        },
        "id": "D-jVc6_uBJzC",
        "outputId": "fdbd8287-a5ad-42c2-e5e2-747933ab147a"
      },
      "execution_count": null,
      "outputs": [
        {
          "output_type": "display_data",
          "data": {
            "text/plain": [
              "<Figure size 432x288 with 1 Axes>"
            ],
            "image/png": "[encoded data removed]"
          },
          "metadata": {
            "needs_background": "light"
          }
        }
      ]
    },
    {
      "cell_type": "code",
      "source": [
        "##On va evaluer le model\n",
        "test_labels_pred = model.predict(test_images)"
      ],
      "metadata": {
        "colab": {
          "base_uri": "https://localhost:8080/"
        },
        "id": "4IvRAw2elPv-",
        "outputId": "675623f5-ab6e-41ff-e797-d497f5d5a611"
      },
      "execution_count": null,
      "outputs": [
        {
          "output_type": "stream",
          "name": "stdout",
          "text": [
            "313/313 [==============================] - 1s 2ms/step\n"
          ]
        }
      ]
    },
    {
      "cell_type": "code",
      "source": [
        "for index in range(len(test_labels_pred[2])):\n",
        "  print('Probabilité que label egal à {} : {}'.format(index,test_labels_pred[2][index]))\n",
        "\n",
        "plt.figure()\n",
        "plt.grid(False)\n",
        "plt.imshow(test_images[2],cmap='gray')\n",
        "plt.show()"
      ],
      "metadata": {
        "colab": {
          "base_uri": "https://localhost:8080/",
          "height": 442
        },
        "id": "t0X9egMZdfce",
        "outputId": "e8df010a-f2d0-4168-eee0-d5f99f9fcda8"
      },
      "execution_count": null,
      "outputs": [
        {
          "output_type": "stream",
          "name": "stdout",
          "text": [
            "Probabilité que label egal à 0 : 8.312251225106593e-07\n",
            "Probabilité que label egal à 1 : 0.9999351501464844\n",
            "Probabilité que label egal à 2 : 5.545369958781521e-07\n",
            "Probabilité que label egal à 3 : 1.6028609550744477e-08\n",
            "Probabilité que label egal à 4 : 3.654031388578005e-05\n",
            "Probabilité que label egal à 5 : 7.755727438052418e-07\n",
            "Probabilité que label egal à 6 : 3.469113835308235e-06\n",
            "Probabilité que label egal à 7 : 1.4929347003089788e-07\n",
            "Probabilité que label egal à 8 : 2.2432563127949834e-05\n",
            "Probabilité que label egal à 9 : 1.3940388043920393e-07\n"
          ]
        },
        {
          "output_type": "display_data",
          "data": {
            "text/plain": [
              "<Figure size 432x288 with 1 Axes>"
            ],
            "image/png": "[encoded data removed]"
          },
          "metadata": {
            "needs_background": "light"
          }
        }
      ]
    },
    {
      "cell_type": "code",
      "source": [
        "model.evaluate(test_images,test_labels)"
      ],
      "metadata": {
        "colab": {
          "base_uri": "https://localhost:8080/"
        },
        "id": "40KgUmP6mdVn",
        "outputId": "ab67895f-e72b-4640-f45e-e5d0ba2bf994"
      },
      "execution_count": null,
      "outputs": [
        {
          "output_type": "stream",
          "name": "stdout",
          "text": [
            "313/313 [==============================] - 1s 4ms/step - loss: 0.0249 - acc: 0.9927\n"
          ]
        },
        {
          "output_type": "execute_result",
          "data": {
            "text/plain": [
              "[0.02494354359805584, 0.9926999807357788]"
            ]
          },
          "metadata": {},
          "execution_count": 84
        }
      ]
    },
    {
      "cell_type": "code",
      "source": [],
      "metadata": {
        "id": "yI_U2dw_mmhT"
      },
      "execution_count": null,
      "outputs": []
    }
  ]
}